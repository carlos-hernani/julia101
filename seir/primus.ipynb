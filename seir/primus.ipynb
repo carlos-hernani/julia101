{
 "cells": [
  {
   "cell_type": "code",
   "execution_count": 1,
   "metadata": {},
   "outputs": [],
   "source": [
    "#=\n",
    "1. download Julia.\n",
    "2. create a link of Julia executable to /usr/local/bin/\n",
    "    ln -fs /Applications/J<Tab>/Contents/Resources/julia/bin/julia /usr/local/bin/julia (OS X)\n",
    "\n",
    "3. (VSCODE) download julia extension & jupyter\n",
    "=#"
   ]
  },
  {
   "cell_type": "code",
   "execution_count": 3,
   "metadata": {},
   "outputs": [
    {
     "name": "stderr",
     "output_type": "stream",
     "text": [
      "\u001b[32m\u001b[1m  Activating\u001b[22m\u001b[39m new project at `~/Documents/GitHub/julia101/learn`\n",
      "\u001b[32m\u001b[1m  Installing\u001b[22m\u001b[39m known registries into `~/.julia`\n",
      "\u001b[32m\u001b[1m  No Changes\u001b[22m\u001b[39m to `~/Documents/GitHub/julia101/learn/Project.toml`\n",
      "\u001b[32m\u001b[1m  No Changes\u001b[22m\u001b[39m to `~/Documents/GitHub/julia101/learn/Manifest.toml`\n"
     ]
    }
   ],
   "source": [
    "#println(@__DIR__) #prints the current directory\n",
    "cd(@__DIR__) # changes the directory to the current directory, the default I guess is the HOME\n",
    "using Pkg; Pkg.activate(\".\"); Pkg.instantiate()\n",
    "#=\n",
    "Pkg is Julia's built-in package manager, and handles operations such as installing, updating and removing packages.\n",
    "Just like cargo it creates a toml-file that describes the versions of the software used & dependencies.\n",
    "=#\n",
    "using  OrdinaryDiffEq\n",
    "using ModelingToolkit\n",
    "using Data"
   ]
  }
 ],
 "metadata": {
  "kernelspec": {
   "display_name": "Julia 1.7.0",
   "language": "julia",
   "name": "julia-1.7"
  },
  "language_info": {
   "file_extension": ".jl",
   "mimetype": "application/julia",
   "name": "julia",
   "version": "1.7.0"
  },
  "orig_nbformat": 4
 },
 "nbformat": 4,
 "nbformat_minor": 2
}
